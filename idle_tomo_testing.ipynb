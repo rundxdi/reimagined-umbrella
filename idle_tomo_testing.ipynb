{
 "cells": [
  {
   "cell_type": "code",
   "execution_count": 18,
   "metadata": {},
   "outputs": [
    {
     "name": "stdout",
     "output_type": "stream",
     "text": [
      "36 idle tomography experiments for 1 qubits\n"
     ]
    },
    {
     "ename": "KeyError",
     "evalue": "0",
     "output_type": "error",
     "traceback": [
      "\u001b[1;31m---------------------------------------------------------------------------\u001b[0m",
      "\u001b[1;31mKeyError\u001b[0m                                  Traceback (most recent call last)",
      "Cell \u001b[1;32mIn[18], line 33\u001b[0m\n\u001b[0;32m     29\u001b[0m \u001b[39m#oh_lawd = [(NQPauliState(\"X\"), NQPauliState(\"X\"))]\u001b[39;00m\n\u001b[0;32m     30\u001b[0m \u001b[39m# \"pauli_fidpairs\":oh_lawd\u001b[39;00m\n\u001b[0;32m     31\u001b[0m huh \u001b[39m=\u001b[39m [(NQPauliState(\u001b[39m\"\u001b[39m\u001b[39mX\u001b[39m\u001b[39m\"\u001b[39m,(\u001b[39m1\u001b[39m,)), NQPauliState(\u001b[39m\"\u001b[39m\u001b[39mX\u001b[39m\u001b[39m\"\u001b[39m))]\n\u001b[1;32m---> 33\u001b[0m results \u001b[39m=\u001b[39m idt\u001b[39m.\u001b[39;49mdo_idle_tomography(n_qubits, ds, max_lengths, paulidicts, maxweight\u001b[39m=\u001b[39;49m\u001b[39m1\u001b[39;49m, advanced_options\u001b[39m=\u001b[39;49m{\u001b[39m\"\u001b[39;49m\u001b[39mjacobian mode\u001b[39;49m\u001b[39m\"\u001b[39;49m:\u001b[39m\"\u001b[39;49m\u001b[39mtogether\u001b[39;49m\u001b[39m\"\u001b[39;49m, \u001b[39m'\u001b[39;49m\u001b[39mpauli_fidpairs\u001b[39;49m\u001b[39m'\u001b[39;49m:huh}, idle_string\u001b[39m=\u001b[39;49m\u001b[39m'\u001b[39;49m\u001b[39mGi:0\u001b[39;49m\u001b[39m'\u001b[39;49m)\n\u001b[0;32m     34\u001b[0m results\u001b[39m.\u001b[39mpauli_fidpairs[\u001b[39m'\u001b[39m\u001b[39msamebasis\u001b[39m\u001b[39m'\u001b[39m]\n\u001b[0;32m     35\u001b[0m results\u001b[39m.\u001b[39mpauli_fidpairs[\u001b[39m'\u001b[39m\u001b[39mdiffbasis\u001b[39m\u001b[39m'\u001b[39m]\n",
      "File \u001b[1;32mc:\\Users\\jkskolf\\AppData\\Local\\miniconda3\\envs\\qcvv\\lib\\site-packages\\pygsti\\extras\\idletomography\\idtcore.py:1167\u001b[0m, in \u001b[0;36mdo_idle_tomography\u001b[1;34m(nqubits, dataset, max_lengths, pauli_basis_dicts, maxweight, idle_string, include_hamiltonian, include_stochastic, include_affine, advanced_options, verbosity, comm)\u001b[0m\n\u001b[0;32m   1163\u001b[0m \u001b[39m#print(\"DB: %d same-basis pairs\" % len(pauli_fidpairs))\u001b[39;00m\n\u001b[0;32m   1164\u001b[0m \n\u001b[0;32m   1165\u001b[0m \u001b[39m#divide up strings among ranks\u001b[39;00m\n\u001b[0;32m   1166\u001b[0m indxFidpairList \u001b[39m=\u001b[39m \u001b[39mlist\u001b[39m(\u001b[39menumerate\u001b[39m(pauli_fidpairs))\n\u001b[1;32m-> 1167\u001b[0m my_FidpairList, _, _ \u001b[39m=\u001b[39m _tools\u001b[39m.\u001b[39;49mmpitools\u001b[39m.\u001b[39;49mdistribute_indices(indxFidpairList, comm, \u001b[39mFalse\u001b[39;49;00m)\n\u001b[0;32m   1169\u001b[0m my_J \u001b[39m=\u001b[39m []; my_obs_infos \u001b[39m=\u001b[39m []\n\u001b[0;32m   1170\u001b[0m \u001b[39mfor\u001b[39;00m i, (ifp, pauli_fidpair) \u001b[39min\u001b[39;00m \u001b[39menumerate\u001b[39m(my_FidpairList):\n\u001b[0;32m   1171\u001b[0m     \u001b[39m#NOTE: pauli_fidpair is a 2-tuple of NQPauliState objects\u001b[39;00m\n",
      "File \u001b[1;32mc:\\Users\\jkskolf\\AppData\\Local\\miniconda3\\envs\\qcvv\\lib\\site-packages\\pygsti\\tools\\mpitools.py:81\u001b[0m, in \u001b[0;36mdistribute_indices\u001b[1;34m(indices, comm, allow_split_comm)\u001b[0m\n\u001b[0;32m     78\u001b[0m     nprocs \u001b[39m=\u001b[39m comm\u001b[39m.\u001b[39mGet_size()\n\u001b[0;32m     79\u001b[0m     rank \u001b[39m=\u001b[39m comm\u001b[39m.\u001b[39mGet_rank()\n\u001b[1;32m---> 81\u001b[0m loc_indices, owners, _ \u001b[39m=\u001b[39m distribute_indices_base(indices, nprocs, rank,\n\u001b[0;32m     82\u001b[0m                                                  allow_split_comm)\n\u001b[0;32m     84\u001b[0m \u001b[39m#Split comm into sub-comms when there are more procs than\u001b[39;00m\n\u001b[0;32m     85\u001b[0m \u001b[39m# indices, resulting in all procs getting only a\u001b[39;00m\n\u001b[0;32m     86\u001b[0m \u001b[39m# single index and multiple procs getting the *same*\u001b[39;00m\n\u001b[1;32m   (...)\u001b[0m\n\u001b[0;32m     89\u001b[0m \u001b[39m#    loc_comm = comm #split is unnecessary\u001b[39;00m\n\u001b[0;32m     90\u001b[0m \u001b[39m#el\u001b[39;00m\n\u001b[0;32m     91\u001b[0m \u001b[39mif\u001b[39;00m nprocs \u001b[39m>\u001b[39m \u001b[39mlen\u001b[39m(indices) \u001b[39mand\u001b[39;00m (comm \u001b[39mis\u001b[39;00m \u001b[39mnot\u001b[39;00m \u001b[39mNone\u001b[39;00m) \u001b[39mand\u001b[39;00m allow_split_comm:\n",
      "File \u001b[1;32mc:\\Users\\jkskolf\\AppData\\Local\\miniconda3\\envs\\qcvv\\lib\\site-packages\\pygsti\\tools\\mpitools.py:186\u001b[0m, in \u001b[0;36mdistribute_indices_base\u001b[1;34m(indices, nprocs, rank, allow_split_comm)\u001b[0m\n\u001b[0;32m    184\u001b[0m         \u001b[39melse\u001b[39;00m:\n\u001b[0;32m    185\u001b[0m             loc_indices \u001b[39m=\u001b[39m []  \u001b[39m# extra procs do nothing\u001b[39;00m\n\u001b[1;32m--> 186\u001b[0m         owners \u001b[39m=\u001b[39m {indices[i]: i \u001b[39mfor\u001b[39;00m i \u001b[39min\u001b[39;00m \u001b[39mrange\u001b[39m(nIndices)}\n\u001b[0;32m    187\u001b[0m         peer_ranks \u001b[39m=\u001b[39m ()\n\u001b[0;32m    189\u001b[0m \u001b[39melse\u001b[39;00m:\n",
      "File \u001b[1;32mc:\\Users\\jkskolf\\AppData\\Local\\miniconda3\\envs\\qcvv\\lib\\site-packages\\pygsti\\tools\\mpitools.py:186\u001b[0m, in \u001b[0;36m<dictcomp>\u001b[1;34m(.0)\u001b[0m\n\u001b[0;32m    184\u001b[0m         \u001b[39melse\u001b[39;00m:\n\u001b[0;32m    185\u001b[0m             loc_indices \u001b[39m=\u001b[39m []  \u001b[39m# extra procs do nothing\u001b[39;00m\n\u001b[1;32m--> 186\u001b[0m         owners \u001b[39m=\u001b[39m {indices[i]: i \u001b[39mfor\u001b[39;00m i \u001b[39min\u001b[39;00m \u001b[39mrange\u001b[39m(nIndices)}\n\u001b[0;32m    187\u001b[0m         peer_ranks \u001b[39m=\u001b[39m ()\n\u001b[0;32m    189\u001b[0m \u001b[39melse\u001b[39;00m:\n",
      "File \u001b[1;32mc:\\Users\\jkskolf\\AppData\\Local\\miniconda3\\envs\\qcvv\\lib\\site-packages\\pygsti\\extras\\idletomography\\pauliobjs.py:137\u001b[0m, in \u001b[0;36mNQPauliState.__hash__\u001b[1;34m(self)\u001b[0m\n\u001b[0;32m    136\u001b[0m \u001b[39mdef\u001b[39;00m \u001b[39m__hash__\u001b[39m(\u001b[39mself\u001b[39m):\n\u001b[1;32m--> 137\u001b[0m     \u001b[39mreturn\u001b[39;00m \u001b[39mhash\u001b[39m(\u001b[39mstr\u001b[39;49m(\u001b[39mself\u001b[39;49m))\n",
      "File \u001b[1;32mc:\\Users\\jkskolf\\AppData\\Local\\miniconda3\\envs\\qcvv\\lib\\site-packages\\pygsti\\extras\\idletomography\\pauliobjs.py:127\u001b[0m, in \u001b[0;36mNQPauliState.__str__\u001b[1;34m(self)\u001b[0m\n\u001b[0;32m    125\u001b[0m \u001b[39mdef\u001b[39;00m \u001b[39m__str__\u001b[39m(\u001b[39mself\u001b[39m):\n\u001b[0;32m    126\u001b[0m     sgn \u001b[39m=\u001b[39m {\u001b[39m1\u001b[39m: \u001b[39m'\u001b[39m\u001b[39m+\u001b[39m\u001b[39m'\u001b[39m, \u001b[39m-\u001b[39m\u001b[39m1\u001b[39m: \u001b[39m'\u001b[39m\u001b[39m-\u001b[39m\u001b[39m'\u001b[39m}\n\u001b[1;32m--> 127\u001b[0m     \u001b[39mreturn\u001b[39;00m \u001b[39m\"\u001b[39m\u001b[39m\"\u001b[39m\u001b[39m.\u001b[39mjoin([\u001b[39m\"\u001b[39m\u001b[39m%s\u001b[39;00m\u001b[39m%s\u001b[39;00m\u001b[39m\"\u001b[39m \u001b[39m%\u001b[39m (sgn[s], let)\n\u001b[0;32m    128\u001b[0m                     \u001b[39mfor\u001b[39;00m s, let \u001b[39min\u001b[39;00m \u001b[39mzip\u001b[39m(\u001b[39mself\u001b[39m\u001b[39m.\u001b[39msigns, \u001b[39mself\u001b[39m\u001b[39m.\u001b[39mrep)])\n",
      "File \u001b[1;32mc:\\Users\\jkskolf\\AppData\\Local\\miniconda3\\envs\\qcvv\\lib\\site-packages\\pygsti\\extras\\idletomography\\pauliobjs.py:127\u001b[0m, in \u001b[0;36m<listcomp>\u001b[1;34m(.0)\u001b[0m\n\u001b[0;32m    125\u001b[0m \u001b[39mdef\u001b[39;00m \u001b[39m__str__\u001b[39m(\u001b[39mself\u001b[39m):\n\u001b[0;32m    126\u001b[0m     sgn \u001b[39m=\u001b[39m {\u001b[39m1\u001b[39m: \u001b[39m'\u001b[39m\u001b[39m+\u001b[39m\u001b[39m'\u001b[39m, \u001b[39m-\u001b[39m\u001b[39m1\u001b[39m: \u001b[39m'\u001b[39m\u001b[39m-\u001b[39m\u001b[39m'\u001b[39m}\n\u001b[1;32m--> 127\u001b[0m     \u001b[39mreturn\u001b[39;00m \u001b[39m\"\u001b[39m\u001b[39m\"\u001b[39m\u001b[39m.\u001b[39mjoin([\u001b[39m\"\u001b[39m\u001b[39m%s\u001b[39;00m\u001b[39m%s\u001b[39;00m\u001b[39m\"\u001b[39m \u001b[39m%\u001b[39m (sgn[s], let)\n\u001b[0;32m    128\u001b[0m                     \u001b[39mfor\u001b[39;00m s, let \u001b[39min\u001b[39;00m \u001b[39mzip\u001b[39m(\u001b[39mself\u001b[39m\u001b[39m.\u001b[39msigns, \u001b[39mself\u001b[39m\u001b[39m.\u001b[39mrep)])\n",
      "\u001b[1;31mKeyError\u001b[0m: 0"
     ]
    }
   ],
   "source": [
    "import pygsti\n",
    "from pygsti.extras import idletomography as idt\n",
    "\n",
    "n_qubits = 1\n",
    "gates = [\"Gi\",\"Gx\",\"Gy\",\"Gcnot\"]\n",
    "max_lengths = [1,2,4,8]\n",
    "pspec = pygsti.processors.QubitProcessorSpec(n_qubits, gates, geometry='line', nonstd_gate_unitaries={():1})\n",
    "\n",
    "mdl_target = pygsti.models.create_crosstalk_free_model(pspec)\n",
    "paulidicts = idt.determine_paulidicts(mdl_target)\n",
    "idle_experiments = idt.make_idle_tomography_list(n_qubits, max_lengths, paulidicts, maxweight=1)\n",
    "print(len(idle_experiments), \"idle tomography experiments for %d qubits\" % n_qubits)\n",
    "from pygsti.baseobjs import Label\n",
    "updated_ckt_list= []\n",
    "for ckt in idle_experiments:\n",
    "    new_ckt= ckt.copy(editable=True)\n",
    "    for i,lbl in enumerate(ckt):\n",
    "        if lbl == Label(()):\n",
    "            new_ckt[i] = Label(('Gi',0))\n",
    "    updated_ckt_list.append(new_ckt)\n",
    "mdl_datagen = pygsti.models.create_crosstalk_free_model(pspec,\n",
    "                                                        lindblad_error_coeffs={'Gi': {'HX': 0.01, 'SX': 0.01}})\n",
    "# Error models! Random with right CP constraints from Taxonomy paper\n",
    "ds = pygsti.data.simulate_data(mdl_datagen, updated_ckt_list, 100000, seed=8675309)\n",
    "\n",
    "\n",
    "# hardcode pauli fidpairs!?!?\n",
    "from pygsti.extras.idletomography.pauliobjs import NQPauliState\n",
    "#oh_lawd = [(NQPauliState(\"X\"), NQPauliState(\"X\"))]\n",
    "# \"pauli_fidpairs\":oh_lawd\n",
    "huh = [(NQPauliState(\"X\",(1,)), NQPauliState(\"X\", (0,)))]\n",
    "\n",
    "results = idt.do_idle_tomography(n_qubits, ds, max_lengths, paulidicts, maxweight=1, advanced_options={\"jacobian mode\":\"together\", 'pauli_fidpairs':huh}, idle_string='Gi:0')\n",
    "results.pauli_fidpairs['samebasis']\n",
    "results.pauli_fidpairs['diffbasis']"
   ]
  },
  {
   "cell_type": "code",
   "execution_count": 12,
   "metadata": {},
   "outputs": [
    {
     "data": {
      "text/plain": [
       "'State[+X]'"
      ]
     },
     "execution_count": 12,
     "metadata": {},
     "output_type": "execute_result"
    }
   ],
   "source": [
    "repr(results.pauli_fidpairs['samebasis'][0][0])"
   ]
  },
  {
   "cell_type": "code",
   "execution_count": 14,
   "metadata": {},
   "outputs": [
    {
     "data": {
      "text/plain": [
       "[(State[+Z], State[+Y]), (State[+X], State[+Z]), (State[-Y], State[-X])]"
      ]
     },
     "execution_count": 14,
     "metadata": {},
     "output_type": "execute_result"
    }
   ],
   "source": [
    "results.pauli_fidpairs['diffbasis']"
   ]
  },
  {
   "cell_type": "code",
   "execution_count": 15,
   "metadata": {},
   "outputs": [
    {
     "data": {
      "text/plain": [
       "[(State[+X], State[-X]),\n",
       " (State[-Y], State[+Y]),\n",
       " (State[+Z], State[+Z]),\n",
       " (State[-X], State[+X]),\n",
       " (State[+Y], State[-Y]),\n",
       " (State[-Z], State[-Z])]"
      ]
     },
     "execution_count": 15,
     "metadata": {},
     "output_type": "execute_result"
    }
   ],
   "source": [
    "results.pauli_fidpairs['samebasis']"
   ]
  },
  {
   "cell_type": "code",
   "execution_count": null,
   "metadata": {},
   "outputs": [],
   "source": []
  }
 ],
 "metadata": {
  "kernelspec": {
   "display_name": "qcvv",
   "language": "python",
   "name": "python3"
  },
  "language_info": {
   "codemirror_mode": {
    "name": "ipython",
    "version": 3
   },
   "file_extension": ".py",
   "mimetype": "text/x-python",
   "name": "python",
   "nbconvert_exporter": "python",
   "pygments_lexer": "ipython3",
   "version": "3.10.9"
  },
  "orig_nbformat": 4
 },
 "nbformat": 4,
 "nbformat_minor": 2
}

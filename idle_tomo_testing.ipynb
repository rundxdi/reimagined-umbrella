{
 "cells": [
  {
   "cell_type": "code",
   "execution_count": 20,
   "metadata": {},
   "outputs": [
    {
     "name": "stdout",
     "output_type": "stream",
     "text": [
      "36 idle tomography experiments for 1 qubits\n"
     ]
    },
    {
     "data": {
      "text/plain": [
       "[(State[+Z], State[+Y]), (State[+X], State[+Z]), (State[-Y], State[-X])]"
      ]
     },
     "execution_count": 20,
     "metadata": {},
     "output_type": "execute_result"
    }
   ],
   "source": [
    "import pygsti\n",
    "from pygsti.extras import idletomography as idt\n",
    "\n",
    "n_qubits = 1\n",
    "gates = [\"Gi\",\"Gx\",\"Gy\",\"Gcnot\"]\n",
    "max_lengths = [1,2,4,8]\n",
    "pspec = pygsti.processors.QubitProcessorSpec(n_qubits, gates, geometry='line', nonstd_gate_unitaries={():1})\n",
    "\n",
    "mdl_target = pygsti.models.create_crosstalk_free_model(pspec)\n",
    "paulidicts = idt.determine_paulidicts(mdl_target)\n",
    "idle_experiments = idt.make_idle_tomography_list(n_qubits, max_lengths, paulidicts, maxweight=1)\n",
    "print(len(idle_experiments), \"idle tomography experiments for %d qubits\" % n_qubits)\n",
    "from pygsti.baseobjs import Label\n",
    "updated_ckt_list= []\n",
    "for ckt in idle_experiments:\n",
    "    new_ckt= ckt.copy(editable=True)\n",
    "    for i,lbl in enumerate(ckt):\n",
    "        if lbl == Label(()):\n",
    "            new_ckt[i] = Label(('Gi',0))\n",
    "    updated_ckt_list.append(new_ckt)\n",
    "mdl_datagen = pygsti.models.create_crosstalk_free_model(pspec,\n",
    "                                                        lindblad_error_coeffs={'Gi': {'HX': 0.01, 'SX': 0.01}})\n",
    "# Error models! Random with right CP constraints from Taxonomy paper\n",
    "ds = pygsti.data.simulate_data(mdl_datagen, updated_ckt_list, 100000, seed=8675309)\n",
    "\n",
    "\n",
    "# hardcode pauli fidpairs!?!?\n",
    "from pygsti.extras.idletomography.pauliobjs import NQPauliState\n",
    "#oh_lawd = [(NQPauliState(\"X\"), NQPauliState(\"X\"))]\n",
    "# \"pauli_fidpairs\":oh_lawd\n",
    "huh = [(NQPauliState(\"X\",(1,)), NQPauliState(\"X\", (0,)))]\n",
    "\n",
    "results = idt.do_idle_tomography(n_qubits, ds, max_lengths, paulidicts, maxweight=1, advanced_options={\"jacobian mode\":\"together\"}, idle_string='Gi:0')\n",
    "results.pauli_fidpairs['samebasis']\n",
    "results.pauli_fidpairs['diffbasis']"
   ]
  },
  {
   "cell_type": "code",
   "execution_count": 12,
   "metadata": {},
   "outputs": [
    {
     "data": {
      "text/plain": [
       "'State[+X]'"
      ]
     },
     "execution_count": 12,
     "metadata": {},
     "output_type": "execute_result"
    }
   ],
   "source": [
    "repr(results.pauli_fidpairs['samebasis'][0][0])"
   ]
  },
  {
   "cell_type": "code",
   "execution_count": 14,
   "metadata": {},
   "outputs": [
    {
     "data": {
      "text/plain": [
       "[(State[+Z], State[+Y]), (State[+X], State[+Z]), (State[-Y], State[-X])]"
      ]
     },
     "execution_count": 14,
     "metadata": {},
     "output_type": "execute_result"
    }
   ],
   "source": [
    "results.pauli_fidpairs['diffbasis']"
   ]
  },
  {
   "cell_type": "code",
   "execution_count": 15,
   "metadata": {},
   "outputs": [
    {
     "data": {
      "text/plain": [
       "[(State[+X], State[-X]),\n",
       " (State[-Y], State[+Y]),\n",
       " (State[+Z], State[+Z]),\n",
       " (State[-X], State[+X]),\n",
       " (State[+Y], State[-Y]),\n",
       " (State[-Z], State[-Z])]"
      ]
     },
     "execution_count": 15,
     "metadata": {},
     "output_type": "execute_result"
    }
   ],
   "source": [
    "results.pauli_fidpairs['samebasis']"
   ]
  },
  {
   "cell_type": "code",
   "execution_count": null,
   "metadata": {},
   "outputs": [],
   "source": []
  }
 ],
 "metadata": {
  "kernelspec": {
   "display_name": "qcvv",
   "language": "python",
   "name": "python3"
  },
  "language_info": {
   "codemirror_mode": {
    "name": "ipython",
    "version": 3
   },
   "file_extension": ".py",
   "mimetype": "text/x-python",
   "name": "python",
   "nbconvert_exporter": "python",
   "pygments_lexer": "ipython3",
   "version": "3.10.9"
  },
  "orig_nbformat": 4
 },
 "nbformat": 4,
 "nbformat_minor": 2
}

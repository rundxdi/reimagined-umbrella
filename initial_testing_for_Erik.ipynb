{
 "cells": [
  {
   "cell_type": "code",
   "execution_count": 1,
   "metadata": {},
   "outputs": [],
   "source": [
    "import numpy as np\n",
    "from pygsti.baseobjs import Basis\n",
    "\n",
    "np.set_printoptions(precision=1, linewidth=1000)"
   ]
  },
  {
   "cell_type": "code",
   "execution_count": 2,
   "metadata": {},
   "outputs": [
    {
     "name": "stdout",
     "output_type": "stream",
     "text": [
      "36 idle tomography experiments for 1 qubits\n"
     ]
    }
   ],
   "source": [
    "import pygsti\n",
    "from pygsti.extras import idletomography as idt\n",
    "\n",
    "n_qubits = 1\n",
    "gates = [\"Gi\",\"Gx\",\"Gy\",\"Gcnot\"]\n",
    "max_lengths = [1,2,4,8]\n",
    "pspec = pygsti.processors.QubitProcessorSpec(n_qubits, gates, geometry='line', nonstd_gate_unitaries={():1})\n",
    "\n",
    "mdl_target = pygsti.models.create_crosstalk_free_model(pspec)\n",
    "paulidicts = idt.determine_paulidicts(mdl_target)\n",
    "idle_experiments = idt.make_idle_tomography_list(n_qubits, max_lengths, paulidicts, maxweight=1)\n",
    "print(len(idle_experiments), \"idle tomography experiments for %d qubits\" % n_qubits)"
   ]
  },
  {
   "cell_type": "code",
   "execution_count": 3,
   "metadata": {},
   "outputs": [],
   "source": [
    "from pygsti.baseobjs import Label\n",
    "updated_ckt_list= []\n",
    "for ckt in idle_experiments:\n",
    "    new_ckt= ckt.copy(editable=True)\n",
    "    for i,lbl in enumerate(ckt):\n",
    "        if lbl == Label(()):\n",
    "            new_ckt[i] = Label(('Gi',0))\n",
    "    updated_ckt_list.append(new_ckt)"
   ]
  },
  {
   "cell_type": "code",
   "execution_count": 4,
   "metadata": {},
   "outputs": [
    {
     "name": "stderr",
     "output_type": "stream",
     "text": [
      "C:\\Users\\jkskolf\\pyGSTi\\pygsti\\circuits\\circuit.py:816: UserWarning: Editable circuit is being converted to read-only mode in order to hash it.  You should call circuit.done_editing() beforehand.\n",
      "  _warnings.warn((\"Editable circuit is being converted to read-only\"\n"
     ]
    }
   ],
   "source": [
    "mdl_datagen = pygsti.models.create_crosstalk_free_model(pspec,\n",
    "                                                        lindblad_error_coeffs={'Gi': {'HX': 0.01}})\n",
    "# Error models! Random with right CP constraints from Taxonomy paper\n",
    "ds = pygsti.data.simulate_data(mdl_datagen, updated_ckt_list,100000, seed=8675309)"
   ]
  },
  {
   "cell_type": "code",
   "execution_count": 5,
   "metadata": {},
   "outputs": [
    {
     "name": "stdout",
     "output_type": "stream",
     "text": [
      "*** Creating workspace ***\n",
      "*** Generating switchboard ***\n",
      "*** Generating tables ***\n",
      "*** Generating plots ***\n",
      "*** Merging into template file ***\n",
      "*** Report Generation Complete!  Total time 0.769244s ***\n"
     ]
    },
    {
     "data": {
      "text/plain": [
       "<pygsti.report.workspace.Workspace at 0x251d8b557b0>"
      ]
     },
     "execution_count": 5,
     "metadata": {},
     "output_type": "execute_result"
    }
   ],
   "source": [
    "#Run idle tomography (takes ~1.5min w/10Q)\n",
    "results = idt.do_idle_tomography(n_qubits, ds, max_lengths, paulidicts, maxweight=1, advanced_options={\"jacobian mode\":\"together\"}, idle_string='Gi:0')\n",
    "idt.create_idletomography_report(results,\"../IDTTestReport\",\"Test idle tomography example report\", auto_open=True)"
   ]
  },
  {
   "cell_type": "code",
   "execution_count": 6,
   "metadata": {},
   "outputs": [
    {
     "data": {
      "text/plain": [
       "[NQPauliOp[ X], NQPauliOp[ Y], NQPauliOp[ Z]]"
      ]
     },
     "execution_count": 6,
     "metadata": {},
     "output_type": "execute_result"
    }
   ],
   "source": [
    "results.error_list"
   ]
  },
  {
   "cell_type": "code",
   "execution_count": 7,
   "metadata": {},
   "outputs": [],
   "source": [
    "ws = pygsti.report.Workspace()\n",
    "#ws.init_notebook_mode(autodisplay=True)"
   ]
  },
  {
   "cell_type": "code",
   "execution_count": 8,
   "metadata": {},
   "outputs": [
    {
     "name": "stdout",
     "output_type": "stream",
     "text": [
      "Idle Tomography Results\n",
      "Intrinsic stochastic rates: \n",
      "   X: 0.000708459\n",
      "   Y: -3.04705e-05\n",
      "   Z: 3.04705e-05\n",
      "Intrinsic affine rates: \n",
      "   X: -3.48486e-21\n",
      "   Y: -1.37661e-05\n",
      "   Z: 9.50637e-06\n",
      "Intrinsic hamiltonian rates:\n",
      "   X: 0.0203293\n",
      "   Y: -0.000755944\n",
      "   Z: 0.00027426\n",
      "\n"
     ]
    }
   ],
   "source": [
    "print(results)"
   ]
  },
  {
   "cell_type": "code",
   "execution_count": 9,
   "metadata": {},
   "outputs": [
    {
     "name": "stdout",
     "output_type": "stream",
     "text": [
      "Gy:0Gi:0Gy:0@(0)  :  {('0',): 0.0, ('1',): 100000.0}\n",
      "Gy:0Gi:0Gi:0Gy:0@(0)  :  {('0',): 0.0, ('1',): 100000.0}\n",
      "Gy:0Gi:0Gi:0Gi:0Gi:0Gy:0@(0)  :  {('0',): 0.0, ('1',): 100000.0}\n",
      "Gy:0Gi:0Gi:0Gi:0Gi:0Gi:0Gi:0Gi:0Gi:0Gy:0@(0)  :  {('0',): 0.0, ('1',): 100000.0}\n",
      "Gx:0Gi:0Gx:0@(0)  :  {('0',): 9.0, ('1',): 99991.0}\n",
      "Gx:0Gi:0Gi:0Gx:0@(0)  :  {('0',): 39.0, ('1',): 99961.0}\n",
      "Gx:0Gi:0Gi:0Gi:0Gi:0Gx:0@(0)  :  {('0',): 175.0, ('1',): 99825.0}\n",
      "Gx:0Gi:0Gi:0Gi:0Gi:0Gi:0Gi:0Gi:0Gi:0Gx:0@(0)  :  {('0',): 655.0, ('1',): 99345.0}\n",
      "Gi:0@(0)  :  {('0',): 99985.0, ('1',): 15.0}\n",
      "Gi:0Gi:0@(0)  :  {('0',): 99958.0, ('1',): 42.0}\n",
      "Gi:0Gi:0Gi:0Gi:0@(0)  :  {('0',): 99847.0, ('1',): 153.0}\n",
      "Gi:0Gi:0Gi:0Gi:0Gi:0Gi:0Gi:0Gi:0@(0)  :  {('0',): 99386.0, ('1',): 614.0}\n",
      "Gy:0Gy:0Gy:0Gi:0Gy:0Gy:0Gy:0@(0)  :  {('0',): 0.0, ('1',): 100000.0}\n",
      "Gy:0Gy:0Gy:0Gi:0Gi:0Gy:0Gy:0Gy:0@(0)  :  {('0',): 0.0, ('1',): 100000.0}\n",
      "Gy:0Gy:0Gy:0Gi:0Gi:0Gi:0Gi:0Gy:0Gy:0Gy:0@(0)  :  {('0',): 0.0, ('1',): 100000.0}\n",
      "Gy:0Gy:0Gy:0Gi:0Gi:0Gi:0Gi:0Gi:0Gi:0Gi:0Gi:0Gy:0Gy:0Gy:0@(0)  :  {('0',): 0.0, ('1',): 100000.0}\n",
      "Gx:0Gx:0Gx:0Gi:0Gx:0Gx:0Gx:0@(0)  :  {('0',): 5.0, ('1',): 99995.0}\n",
      "Gx:0Gx:0Gx:0Gi:0Gi:0Gx:0Gx:0Gx:0@(0)  :  {('0',): 42.0, ('1',): 99958.0}\n",
      "Gx:0Gx:0Gx:0Gi:0Gi:0Gi:0Gi:0Gx:0Gx:0Gx:0@(0)  :  {('0',): 174.0, ('1',): 99826.0}\n",
      "Gx:0Gx:0Gx:0Gi:0Gi:0Gi:0Gi:0Gi:0Gi:0Gi:0Gi:0Gx:0Gx:0Gx:0@(0)  :  {('0',): 690.0, ('1',): 99310.0}\n",
      "Gx:0Gx:0Gi:0Gx:0Gx:0@(0)  :  {('0',): 99991.0, ('1',): 9.0}\n",
      "Gx:0Gx:0Gi:0Gi:0Gx:0Gx:0@(0)  :  {('0',): 99960.0, ('1',): 40.0}\n",
      "Gx:0Gx:0Gi:0Gi:0Gi:0Gi:0Gx:0Gx:0@(0)  :  {('0',): 99833.0, ('1',): 167.0}\n",
      "Gx:0Gx:0Gi:0Gi:0Gi:0Gi:0Gi:0Gi:0Gi:0Gi:0Gx:0Gx:0@(0)  :  {('0',): 99391.0, ('1',): 609.0}\n",
      "Gi:0Gx:0@(0)  :  {('0',): 49179.0, ('1',): 50821.0}\n",
      "Gi:0Gi:0Gx:0@(0)  :  {('0',): 48202.0, ('1',): 51798.0}\n",
      "Gi:0Gi:0Gi:0Gi:0Gx:0@(0)  :  {('0',): 46027.0, ('1',): 53973.0}\n",
      "Gi:0Gi:0Gi:0Gi:0Gi:0Gi:0Gi:0Gi:0Gx:0@(0)  :  {('0',): 42076.0, ('1',): 57924.0}\n",
      "Gy:0Gi:0@(0)  :  {('0',): 49742.0, ('1',): 50258.0}\n",
      "Gy:0Gi:0Gi:0@(0)  :  {('0',): 49851.0, ('1',): 50149.0}\n",
      "Gy:0Gi:0Gi:0Gi:0Gi:0@(0)  :  {('0',): 49844.0, ('1',): 50156.0}\n",
      "Gy:0Gi:0Gi:0Gi:0Gi:0Gi:0Gi:0Gi:0Gi:0@(0)  :  {('0',): 50043.0, ('1',): 49957.0}\n",
      "Gx:0Gi:0Gy:0@(0)  :  {('0',): 49875.0, ('1',): 50125.0}\n",
      "Gx:0Gi:0Gi:0Gy:0@(0)  :  {('0',): 49784.0, ('1',): 50216.0}\n",
      "Gx:0Gi:0Gi:0Gi:0Gi:0Gy:0@(0)  :  {('0',): 49548.0, ('1',): 50452.0}\n",
      "Gx:0Gi:0Gi:0Gi:0Gi:0Gi:0Gi:0Gi:0Gi:0Gy:0@(0)  :  {('0',): 49764.0, ('1',): 50236.0}\n",
      "\n",
      "\n"
     ]
    }
   ],
   "source": [
    "print(ds)"
   ]
  },
  {
   "cell_type": "code",
   "execution_count": null,
   "metadata": {},
   "outputs": [],
   "source": []
  },
  {
   "cell_type": "code",
   "execution_count": null,
   "metadata": {},
   "outputs": [],
   "source": []
  }
 ],
 "metadata": {
  "kernelspec": {
   "display_name": "qcvv",
   "language": "python",
   "name": "python3"
  },
  "language_info": {
   "codemirror_mode": {
    "name": "ipython",
    "version": 3
   },
   "file_extension": ".py",
   "mimetype": "text/x-python",
   "name": "python",
   "nbconvert_exporter": "python",
   "pygments_lexer": "ipython3",
   "version": "3.10.9"
  },
  "orig_nbformat": 4
 },
 "nbformat": 4,
 "nbformat_minor": 2
}

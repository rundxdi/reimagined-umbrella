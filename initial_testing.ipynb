{
 "cells": [
  {
   "cell_type": "code",
   "execution_count": null,
   "metadata": {},
   "outputs": [],
   "source": [
    "import numpy as np\n",
    "from pygsti.baseobjs import Basis\n",
    "\n",
    "np.set_printoptions(precision=1, linewidth=1000)"
   ]
  },
  {
   "cell_type": "code",
   "execution_count": null,
   "metadata": {},
   "outputs": [],
   "source": [
    "# 1-qubit base case\n",
    "pp = Basis.cast('PP', dim=4)\n",
    "pauliNames = [\"I\", \"X\", \"Y\", \"Z\"]\n",
    "## HEY THIS NEEDS TO BE PER QUBIT +/-!!!\n",
    "initialStates = [\"X+\", \"X-\", \"Y+\",\"Y-\", \"Z+\", \"Z-\"]\n"
   ]
  },
  {
   "cell_type": "code",
   "execution_count": null,
   "metadata": {},
   "outputs": [],
   "source": [
    "# Commutator Helper Functions\n",
    "def commute(mat1, mat2):\n",
    "    return mat1@mat2 + mat2@mat1\n",
    "\n",
    "def anti_commute(mat1, mat2):\n",
    "    return mat1@mat2 - mat2@mat1"
   ]
  },
  {
   "cell_type": "code",
   "execution_count": null,
   "metadata": {},
   "outputs": [],
   "source": [
    "# Hamiltonian Error Generator\n",
    "def hamiltonian_error_generator(initial_state, pauli_index, pauliDict, numQubits):\n",
    "    return -1j*pauliDict[pauli_index]@initial_state@pauliDict[\"I\"*numQubits] + 1j*pauliDict[\"I\"*numQubits]@initial_state@pauliDict[pauli_index]\n",
    "\n",
    "# Stochastic Error Generator\n",
    "def stochastic_error_generator(initial_state, pauli_index, pauliDict):\n",
    "    return pauliDict[pauli_index]@initial_state@pauliDict[pauli_index] - pauliDict[\"I\"]@initial_state@pauliDict[\"I\"]\n",
    "\n",
    "# Pauli-correlation Error Generator\n",
    "def pauli_correlation_error_generator(initial_state, pauli_index_1, pauli_index_2, pauliDict):\n",
    "    return pauliDict[pauli_index_1]@initial_state@pauliDict[pauli_index_2] + pauliDict[pauli_index_2]@initial_state@pauliDict[pauli_index_1] - 0.5 * commute(commute(pauliDict[pauli_index_1], pauliDict[pauli_index_2]), initial_state)\n",
    "\n",
    "# Anti-symmetric Error Generator\n",
    "def anti_symmetric_error_generator(initial_state, pauli_index_1, pauli_index_2, pauliDict):\n",
    "    return 1j*(pauliDict[pauli_index_1]@initial_state@pauliDict[pauli_index_2] - pauliDict[pauli_index_2]@initial_state@pauliDict[pauli_index_1] + 0.5 * commute(anti_commute(pauliDict[pauli_index_1], pauliDict[pauli_index_2]), initial_state))"
   ]
  },
  {
   "cell_type": "code",
   "execution_count": null,
   "metadata": {},
   "outputs": [],
   "source": [
    "# Convert basis; 1-q only at the moment\n",
    "def convert_to_pauli(matrix, numQubits):\n",
    "    pauliNames1Q = [\"I\", \"X\", \"Y\", \"Z\"]\n",
    "    # Hard force to 1- or 2-qubit\n",
    "    if numQubits == 1:\n",
    "        pauliNames = pauliNames1Q\n",
    "    elif numQubits == 2:\n",
    "        pauliNames = [''.join(name) for name in product(pauliNames1Q, pauliNames1Q)]\n",
    "    translationMatrix = pp.from_std_transform_matrix\n",
    "    coefs = np.real_if_close(np.dot(translationMatrix,matrix.flatten()))\n",
    "    return [(a,b) for (a,b) in zip(coefs,pauliNames) if abs(a) > 0.0001]"
   ]
  },
  {
   "cell_type": "code",
   "execution_count": null,
   "metadata": {},
   "outputs": [],
   "source": [
    "# Compute the set of measurable effects of Hamiltonian error generators operating on two qubits in each of the specified eigenstates\n",
    "hamiltonianIndices = pauliNames[1:]\n",
    "hamiltonianErrorOutputs = dict()\n",
    "numQubits = 1\n",
    "for index in hamiltonianIndices:\n",
    "    for state in initialStates:\n",
    "        if state[-1] == \"+\":\n",
    "            hamiltonianErrorOutputs[(index, state)] = 0.5*hamiltonian_error_generator(pp[\"I\"*numQubits], index, pp, numQubits) + 0.5*hamiltonian_error_generator(pp[state[:-1]], index, pp, numQubits)\n",
    "        elif state[-1] == \"-\":\n",
    "            hamiltonianErrorOutputs[(index, state)] = 0.5*hamiltonian_error_generator(pp[\"I\"*numQubits], index, pp, numQubits) - 0.5*hamiltonian_error_generator(pp[state[:-1]], index, pp, numQubits)\n",
    "\n",
    "# Convert measurable effects into coefficients\n",
    "for key in hamiltonianErrorOutputs:\n",
    "    hamiltonianErrorOutputs[key] = convert_to_pauli(hamiltonianErrorOutputs[key], numQubits)\n",
    "\n",
    "for key in hamiltonianErrorOutputs:\n",
    "    print(key, \"\\n\", hamiltonianErrorOutputs[key])"
   ]
  },
  {
   "cell_type": "code",
   "execution_count": null,
   "metadata": {},
   "outputs": [],
   "source": [
    "# Compute the set of measurable effects of stochastic error generators operating on a single qubit in each of the specified eigenstates\n",
    "stochasticIndices = [\"X\", \"Y\", \"Z\"]\n",
    "stochasticErrorOutputs = dict()\n",
    "for index in stochasticIndices:\n",
    "    for state in initialStates:\n",
    "        if state[-1] == \"+\":\n",
    "            stochasticErrorOutputs[(index, state)] = 0.5*stochastic_error_generator(pp[\"I\"], index, pp) + 0.5*stochastic_error_generator(pp[state[0]], index, pp)\n",
    "        elif state[-1] == \"-\":\n",
    "            stochasticErrorOutputs[(index, state)] = 0.5*stochastic_error_generator(pp[\"I\"], index, pp) - 0.5*stochastic_error_generator(pp[state[0]], index, pp)\n",
    "\n",
    "# Convert measurable effects into coefficients\n",
    "for key in stochasticErrorOutputs:\n",
    "    stochasticErrorOutputs[key] = convert_to_pauli(stochasticErrorOutputs[key], numQubits)\n",
    "for key in stochasticErrorOutputs:\n",
    "    print(key, \"\\n\", stochasticErrorOutputs[key])\n"
   ]
  },
  {
   "cell_type": "code",
   "execution_count": null,
   "metadata": {},
   "outputs": [],
   "source": [
    "# Compute the set of measurable effects of pauli-correlation error generators operating on a single qubit in each of the specified eigenstates\n",
    "pauliCorrelationIndices = [\"XY\", \"XZ\", \"YZ\"]\n",
    "pauliCorrelationErrorOutputs = dict()\n",
    "for index in pauliCorrelationIndices:\n",
    "    for state in initialStates:\n",
    "        if state[-1] == \"+\":\n",
    "            pauliCorrelationErrorOutputs[(index, state)] = 0.5*pauli_correlation_error_generator(pp[\"I\"], index[0], index[1], pp) + 0.5*pauli_correlation_error_generator(pp[state[0]], index[0], index[1], pp)\n",
    "        elif state[-1] == \"-\":\n",
    "            pauliCorrelationErrorOutputs[(index, state)] = 0.5*pauli_correlation_error_generator(pp[\"I\"], index[0], index[1], pp) - 0.5*pauli_correlation_error_generator(pp[state[0]], index[0], index[1], pp)\n",
    "\n",
    "# Convert measurable effects into coefficients\n",
    "for key in pauliCorrelationErrorOutputs:\n",
    "    pauliCorrelationErrorOutputs[key] = convert_to_pauli(pauliCorrelationErrorOutputs[key], numQubits)\n",
    "for key in pauliCorrelationErrorOutputs:\n",
    "    print(key, \"\\n\", pauliCorrelationErrorOutputs[key])\n"
   ]
  },
  {
   "cell_type": "code",
   "execution_count": null,
   "metadata": {},
   "outputs": [],
   "source": [
    "# Compute the set of measurable effects of pauli-correlation error generators operating on a single qubit in each of the specified eigenstates\n",
    "antiSymmetricIndices = [\"XY\", \"XZ\", \"YZ\"]\n",
    "antiSymmetricErrorOutputs = dict()\n",
    "for index in antiSymmetricIndices:\n",
    "    for state in initialStates:\n",
    "        if state[-1] == \"+\":\n",
    "            antiSymmetricErrorOutputs[(index, state)] = 0.5*anti_symmetric_error_generator(pp[\"I\"], index[0], index[1], pp) + 0.5*anti_symmetric_error_generator(pp[state[0]], index[0], index[1], pp)\n",
    "        elif state[-1] == \"-\":\n",
    "            antiSymmetricErrorOutputs[(index, state)] = 0.5*anti_symmetric_error_generator(pp[\"I\"], index[0], index[1], pp) - 0.5*anti_symmetric_error_generator(pp[state[0]], index[0], index[1], pp)\n",
    "\n",
    "# Convert measurable effects into coefficients\n",
    "for key in antiSymmetricErrorOutputs:\n",
    "    antiSymmetricErrorOutputs[key] = convert_to_pauli(antiSymmetricErrorOutputs[key], numQubits)\n",
    "for key in antiSymmetricErrorOutputs:\n",
    "    print(key, \"\\n\", antiSymmetricErrorOutputs[key])\n"
   ]
  },
  {
   "cell_type": "code",
   "execution_count": null,
   "metadata": {},
   "outputs": [],
   "source": [
    "# 2-Qubit case\n",
    "from itertools import product\n",
    "pp = Basis.cast('PP', dim=16)\n",
    "pauliNames1Q = [\"I\", \"X\", \"Y\", \"Z\"]\n",
    "pauliNames = [''.join(name) for name in product(pauliNames1Q, pauliNames1Q)]\n",
    "initialStates = [''.join((name, '+')) for name in pauliNames[1:]] + [''.join((name, '-')) for name in pauliNames[1:]]"
   ]
  },
  {
   "cell_type": "code",
   "execution_count": null,
   "metadata": {},
   "outputs": [],
   "source": [
    "print(pauliNames)\n",
    "print(initialStates)"
   ]
  },
  {
   "cell_type": "code",
   "execution_count": null,
   "metadata": {},
   "outputs": [],
   "source": [
    "# Compute the set of measurable effects of Hamiltonian error generators operating on two qubits in each of the specified eigenstates\n",
    "hamiltonianIndices = pauliNames[1:]\n",
    "hamiltonianErrorOutputs = dict()\n",
    "numQubits = 2\n",
    "for index in hamiltonianIndices:\n",
    "    for state in initialStates:\n",
    "        if state[-1] == \"+\":\n",
    "            hamiltonianErrorOutputs[(index, state)] = 0.5*hamiltonian_error_generator(pp[\"I\"*numQubits], index, pp, numQubits) + 0.5*hamiltonian_error_generator(pp[state[:-1]], index, pp, numQubits)\n",
    "        elif state[-1] == \"-\":\n",
    "            hamiltonianErrorOutputs[(index, state)] = 0.5*hamiltonian_error_generator(pp[\"I\"*numQubits], index, pp, numQubits) - 0.5*hamiltonian_error_generator(pp[state[:-1]], index, pp, numQubits)\n",
    "\n",
    "# Convert measurable effects into coefficients\n",
    "for key in hamiltonianErrorOutputs:\n",
    "    hamiltonianErrorOutputs[key] = convert_to_pauli(hamiltonianErrorOutputs[key], numQubits)\n",
    "\n",
    "for key in hamiltonianErrorOutputs:\n",
    "    print(key, \"\\n\", hamiltonianErrorOutputs[key])"
   ]
  },
  {
   "cell_type": "code",
   "execution_count": 58,
   "metadata": {},
   "outputs": [
    {
     "name": "stdout",
     "output_type": "stream",
     "text": [
      "36 idle tomography experiments for 1 qubits\n"
     ]
    }
   ],
   "source": [
    "import pygsti\n",
    "from pygsti.extras import idletomography as idt\n",
    "\n",
    "n_qubits = 1\n",
    "gates = [\"Gi\",\"Gx\",\"Gy\",\"Gcnot\"]\n",
    "max_lengths = [1,2,4,8]\n",
    "pspec = pygsti.processors.QubitProcessorSpec(n_qubits, gates, geometry='line', nonstd_gate_unitaries={():1})\n",
    "\n",
    "mdl_target = pygsti.models.create_crosstalk_free_model(pspec)\n",
    "paulidicts = idt.determine_paulidicts(mdl_target)\n",
    "idle_experiments = idt.make_idle_tomography_list(n_qubits, max_lengths, paulidicts, maxweight=1)\n",
    "print(len(idle_experiments), \"idle tomography experiments for %d qubits\" % n_qubits)"
   ]
  },
  {
   "cell_type": "code",
   "execution_count": 44,
   "metadata": {},
   "outputs": [
    {
     "data": {
      "text/plain": [
       "odict_keys([Label(('Gi', 0)), Label(('Gx', 0)), Label(('Gy', 0))])"
      ]
     },
     "execution_count": 44,
     "metadata": {},
     "output_type": "execute_result"
    }
   ],
   "source": [
    "mdl_target.operation_blks['layers'].keys()"
   ]
  },
  {
   "cell_type": "code",
   "execution_count": 45,
   "metadata": {},
   "outputs": [
    {
     "data": {
      "text/plain": [
       "OutcomeLabelDict([(('0',), 1.0), (('1',), 1.0146536357569526e-17)])"
      ]
     },
     "execution_count": 45,
     "metadata": {},
     "output_type": "execute_result"
    }
   ],
   "source": [
    "mdl_target.probabilities(pygsti.circuits.Circuit([[]],line_labels=(0,)))"
   ]
  },
  {
   "cell_type": "code",
   "execution_count": 47,
   "metadata": {},
   "outputs": [
    {
     "name": "stdout",
     "output_type": "stream",
     "text": [
      "layers:rho0 = Computational Z-basis state vec for 1 qubits w/z-values: [0]\n",
      "\n",
      "layers:Mdefault = Computational(Z)-basis POVM on 1 qubits and filter None\n",
      "\n",
      "\n",
      "gates:Gi = \n",
      "StaticStandardOp with name Gi and evotype densitymx_slow\n",
      "\n",
      "\n",
      "gates:Gx = \n",
      "StaticStandardOp with name Gx and evotype densitymx_slow\n",
      "\n",
      "\n",
      "gates:Gy = \n",
      "StaticStandardOp with name Gy and evotype densitymx_slow\n",
      "\n",
      "\n",
      "gates:Gcnot = \n",
      "StaticStandardOp with name Gcnot and evotype densitymx_slow\n",
      "\n",
      "\n",
      "layers:Gi:0 = \n",
      "StaticStandardOp with name Gi and evotype densitymx_slow\n",
      "\n",
      "\n",
      "layers:Gx:0 = \n",
      "StaticStandardOp with name Gx and evotype densitymx_slow\n",
      "\n",
      "\n",
      "layers:Gy:0 = \n",
      "StaticStandardOp with name Gy and evotype densitymx_slow\n",
      "\n",
      "\n",
      "\n",
      "\n",
      "\n"
     ]
    }
   ],
   "source": [
    "print(mdl_target)"
   ]
  },
  {
   "cell_type": "code",
   "execution_count": 72,
   "metadata": {},
   "outputs": [
    {
     "name": "stderr",
     "output_type": "stream",
     "text": [
      "c:\\Users\\jkskolf\\AppData\\Local\\miniconda3\\envs\\qcvv\\lib\\site-packages\\pygsti\\circuits\\circuit.py:816: UserWarning: Editable circuit is being converted to read-only mode in order to hash it.  You should call circuit.done_editing() beforehand.\n",
      "  _warnings.warn((\"Editable circuit is being converted to read-only\"\n"
     ]
    }
   ],
   "source": [
    "#Generate some data (takes ~5min w/10Q)\n",
    "from pygsti.baseobjs import Label \n",
    "mdl_datagen = pygsti.models.create_crosstalk_free_model(pspec,\n",
    "                                                        lindblad_error_coeffs={'Gi': {'HX': 0.01, 'SX': 0.01}})\n",
    "ds = pygsti.data.simulate_data(mdl_datagen, updated_ckt_list, 100000, seed=8675309)"
   ]
  },
  {
   "cell_type": "code",
   "execution_count": 60,
   "metadata": {},
   "outputs": [
    {
     "name": "stdout",
     "output_type": "stream",
     "text": [
      "[Circuit(Gy:0[]Gy:0@(0)), Circuit(Gy:0[][]Gy:0@(0)), Circuit(Gy:0[][][][]Gy:0@(0)), Circuit(Gy:0[][][][][][][][]Gy:0@(0)), Circuit(Gx:0[]Gx:0@(0)), Circuit(Gx:0[][]Gx:0@(0)), Circuit(Gx:0[][][][]Gx:0@(0)), Circuit(Gx:0[][][][][][][][]Gx:0@(0)), Circuit([]@(0)), Circuit([][]@(0)), Circuit([][][][]@(0)), Circuit([][][][][][][][]@(0)), Circuit(Gy:0Gy:0Gy:0[]Gy:0Gy:0Gy:0@(0)), Circuit(Gy:0Gy:0Gy:0[][]Gy:0Gy:0Gy:0@(0)), Circuit(Gy:0Gy:0Gy:0[][][][]Gy:0Gy:0Gy:0@(0)), Circuit(Gy:0Gy:0Gy:0[][][][][][][][]Gy:0Gy:0Gy:0@(0)), Circuit(Gx:0Gx:0Gx:0[]Gx:0Gx:0Gx:0@(0)), Circuit(Gx:0Gx:0Gx:0[][]Gx:0Gx:0Gx:0@(0)), Circuit(Gx:0Gx:0Gx:0[][][][]Gx:0Gx:0Gx:0@(0)), Circuit(Gx:0Gx:0Gx:0[][][][][][][][]Gx:0Gx:0Gx:0@(0)), Circuit(Gx:0Gx:0[]Gx:0Gx:0@(0)), Circuit(Gx:0Gx:0[][]Gx:0Gx:0@(0)), Circuit(Gx:0Gx:0[][][][]Gx:0Gx:0@(0)), Circuit(Gx:0Gx:0[][][][][][][][]Gx:0Gx:0@(0)), Circuit([]Gx:0@(0)), Circuit([][]Gx:0@(0)), Circuit([][][][]Gx:0@(0)), Circuit([][][][][][][][]Gx:0@(0)), Circuit(Gy:0[]@(0)), Circuit(Gy:0[][]@(0)), Circuit(Gy:0[][][][]@(0)), Circuit(Gy:0[][][][][][][][]@(0)), Circuit(Gx:0[]Gy:0@(0)), Circuit(Gx:0[][]Gy:0@(0)), Circuit(Gx:0[][][][]Gy:0@(0)), Circuit(Gx:0[][][][][][][][]Gy:0@(0))]\n"
     ]
    }
   ],
   "source": [
    "print(idle_experiments)"
   ]
  },
  {
   "cell_type": "code",
   "execution_count": 63,
   "metadata": {},
   "outputs": [
    {
     "data": {
      "text/plain": [
       "Label(())"
      ]
     },
     "execution_count": 63,
     "metadata": {},
     "output_type": "execute_result"
    }
   ],
   "source": [
    "idle_experiments[0][1]"
   ]
  },
  {
   "cell_type": "code",
   "execution_count": 71,
   "metadata": {},
   "outputs": [],
   "source": [
    "updated_ckt_list= []\n",
    "for ckt in idle_experiments:\n",
    "    new_ckt= ckt.copy(editable=True)\n",
    "    for i,lbl in enumerate(ckt):\n",
    "        if lbl == Label(()):\n",
    "            new_ckt[i] = Label(('Gi',0))\n",
    "    updated_ckt_list.append(new_ckt)"
   ]
  },
  {
   "cell_type": "code",
   "execution_count": 73,
   "metadata": {},
   "outputs": [
    {
     "name": "stdout",
     "output_type": "stream",
     "text": [
      "Gy:0Gi:0Gy:0@(0)  :  {('0',): 0.0, ('1',): 100000.0}\n",
      "Gy:0Gi:0Gi:0Gy:0@(0)  :  {('0',): 0.0, ('1',): 100000.0}\n",
      "Gy:0Gi:0Gi:0Gi:0Gi:0Gy:0@(0)  :  {('0',): 0.0, ('1',): 100000.0}\n",
      "Gy:0Gi:0Gi:0Gi:0Gi:0Gi:0Gi:0Gi:0Gi:0Gy:0@(0)  :  {('0',): 0.0, ('1',): 100000.0}\n",
      "Gx:0Gi:0Gx:0@(0)  :  {('0',): 524.0, ('1',): 99476.0}\n",
      "Gx:0Gi:0Gi:0Gx:0@(0)  :  {('0',): 1001.0, ('1',): 98999.0}\n",
      "Gx:0Gi:0Gi:0Gi:0Gi:0Gx:0@(0)  :  {('0',): 1977.0, ('1',): 98023.0}\n",
      "Gx:0Gi:0Gi:0Gi:0Gi:0Gi:0Gi:0Gi:0Gi:0Gx:0@(0)  :  {('0',): 4124.0, ('1',): 95876.0}\n",
      "Gi:0@(0)  :  {('0',): 99501.0, ('1',): 499.0}\n",
      "Gi:0Gi:0@(0)  :  {('0',): 98939.0, ('1',): 1061.0}\n",
      "Gi:0Gi:0Gi:0Gi:0@(0)  :  {('0',): 98007.0, ('1',): 1993.0}\n",
      "Gi:0Gi:0Gi:0Gi:0Gi:0Gi:0Gi:0Gi:0@(0)  :  {('0',): 95854.0, ('1',): 4146.0}\n",
      "Gy:0Gy:0Gy:0Gi:0Gy:0Gy:0Gy:0@(0)  :  {('0',): 0.0, ('1',): 100000.0}\n",
      "Gy:0Gy:0Gy:0Gi:0Gi:0Gy:0Gy:0Gy:0@(0)  :  {('0',): 0.0, ('1',): 100000.0}\n",
      "Gy:0Gy:0Gy:0Gi:0Gi:0Gi:0Gi:0Gy:0Gy:0Gy:0@(0)  :  {('0',): 0.0, ('1',): 100000.0}\n",
      "Gy:0Gy:0Gy:0Gi:0Gi:0Gi:0Gi:0Gi:0Gi:0Gi:0Gi:0Gy:0Gy:0Gy:0@(0)  :  {('0',): 0.0, ('1',): 100000.0}\n",
      "Gx:0Gx:0Gx:0Gi:0Gx:0Gx:0Gx:0@(0)  :  {('0',): 470.0, ('1',): 99530.0}\n",
      "Gx:0Gx:0Gx:0Gi:0Gi:0Gx:0Gx:0Gx:0@(0)  :  {('0',): 952.0, ('1',): 99048.0}\n",
      "Gx:0Gx:0Gx:0Gi:0Gi:0Gi:0Gi:0Gx:0Gx:0Gx:0@(0)  :  {('0',): 2077.0, ('1',): 97923.0}\n",
      "Gx:0Gx:0Gx:0Gi:0Gi:0Gi:0Gi:0Gi:0Gi:0Gi:0Gi:0Gx:0Gx:0Gx:0@(0)  :  {('0',): 4103.0, ('1',): 95897.0}\n",
      "Gx:0Gx:0Gi:0Gx:0Gx:0@(0)  :  {('0',): 99485.0, ('1',): 515.0}\n",
      "Gx:0Gx:0Gi:0Gi:0Gx:0Gx:0@(0)  :  {('0',): 98958.0, ('1',): 1042.0}\n",
      "Gx:0Gx:0Gi:0Gi:0Gi:0Gi:0Gx:0Gx:0@(0)  :  {('0',): 98018.0, ('1',): 1982.0}\n",
      "Gx:0Gx:0Gi:0Gi:0Gi:0Gi:0Gi:0Gi:0Gi:0Gi:0Gx:0Gx:0@(0)  :  {('0',): 95791.0, ('1',): 4209.0}\n",
      "Gi:0Gx:0@(0)  :  {('0',): 49501.0, ('1',): 50499.0}\n",
      "Gi:0Gi:0Gx:0@(0)  :  {('0',): 48637.0, ('1',): 51363.0}\n",
      "Gi:0Gi:0Gi:0Gi:0Gx:0@(0)  :  {('0',): 47327.0, ('1',): 52673.0}\n",
      "Gi:0Gi:0Gi:0Gi:0Gi:0Gi:0Gi:0Gi:0Gx:0@(0)  :  {('0',): 45045.0, ('1',): 54955.0}\n",
      "Gy:0Gi:0@(0)  :  {('0',): 49851.0, ('1',): 50149.0}\n",
      "Gy:0Gi:0Gi:0@(0)  :  {('0',): 49844.0, ('1',): 50156.0}\n",
      "Gy:0Gi:0Gi:0Gi:0Gi:0@(0)  :  {('0',): 49957.0, ('1',): 50043.0}\n",
      "Gy:0Gi:0Gi:0Gi:0Gi:0Gi:0Gi:0Gi:0Gi:0@(0)  :  {('0',): 49875.0, ('1',): 50125.0}\n",
      "Gx:0Gi:0Gy:0@(0)  :  {('0',): 49784.0, ('1',): 50216.0}\n",
      "Gx:0Gi:0Gi:0Gy:0@(0)  :  {('0',): 49548.0, ('1',): 50452.0}\n",
      "Gx:0Gi:0Gi:0Gi:0Gi:0Gy:0@(0)  :  {('0',): 49764.0, ('1',): 50236.0}\n",
      "Gx:0Gi:0Gi:0Gi:0Gi:0Gi:0Gi:0Gi:0Gi:0Gy:0@(0)  :  {('0',): 49905.0, ('1',): 50095.0}\n",
      "\n",
      "\n"
     ]
    }
   ],
   "source": [
    "print(ds)"
   ]
  },
  {
   "cell_type": "code",
   "execution_count": 77,
   "metadata": {},
   "outputs": [],
   "source": [
    "#Run idle tomography (takes ~1.5min w/10Q)\n",
    "results = idt.do_idle_tomography(n_qubits, ds, max_lengths, paulidicts, maxweight=1, advanced_options={\"jacobian mode\":\"together\"}, idle_string='Gi:0')"
   ]
  },
  {
   "cell_type": "code",
   "execution_count": 23,
   "metadata": {},
   "outputs": [
    {
     "name": "stdout",
     "output_type": "stream",
     "text": [
      "dict_keys(['samebasis', 'diffbasis'])\n"
     ]
    }
   ],
   "source": [
    "print(results.observed_rate_infos.keys())"
   ]
  },
  {
   "cell_type": "code",
   "execution_count": 24,
   "metadata": {},
   "outputs": [
    {
     "name": "stdout",
     "output_type": "stream",
     "text": [
      "6\n"
     ]
    }
   ],
   "source": [
    "print(len(results.observed_rate_infos['samebasis']))"
   ]
  },
  {
   "cell_type": "code",
   "execution_count": 25,
   "metadata": {},
   "outputs": [
    {
     "name": "stdout",
     "output_type": "stream",
     "text": [
      "6\n"
     ]
    }
   ],
   "source": [
    "print(len(results.pauli_fidpairs['samebasis']))"
   ]
  },
  {
   "cell_type": "code",
   "execution_count": 35,
   "metadata": {},
   "outputs": [
    {
     "data": {
      "text/plain": [
       "[(State[+X], State[-X]),\n",
       " (State[-Y], State[+Y]),\n",
       " (State[+Z], State[+Z]),\n",
       " (State[-X], State[+X]),\n",
       " (State[+Y], State[-Y]),\n",
       " (State[-Z], State[-Z])]"
      ]
     },
     "execution_count": 35,
     "metadata": {},
     "output_type": "execute_result"
    }
   ],
   "source": [
    "results.pauli_fidpairs['samebasis']"
   ]
  },
  {
   "cell_type": "code",
   "execution_count": 36,
   "metadata": {},
   "outputs": [
    {
     "data": {
      "text/plain": [
       "[(State[+Z], State[+Y]), (State[+X], State[+Z]), (State[-Y], State[-X])]"
      ]
     },
     "execution_count": 36,
     "metadata": {},
     "output_type": "execute_result"
    }
   ],
   "source": [
    "results.pauli_fidpairs['diffbasis']"
   ]
  },
  {
   "cell_type": "code",
   "execution_count": 78,
   "metadata": {},
   "outputs": [
    {
     "data": {
      "text/plain": [
       "[OrderedDict([(NQPauliOp[ Y],\n",
       "               {'rate': -0.01249839683278231,\n",
       "                'fit_order': 1,\n",
       "                'fitCoeffs': array([-0.0124984 , -0.00057968]),\n",
       "                'data': [-0.00998, -0.02726, -0.05346, -0.0991],\n",
       "                'errbars': [0.003162120174186933,\n",
       "                 0.003161102485526213,\n",
       "                 0.003157755576988187,\n",
       "                 0.003146711283228889],\n",
       "                'weights': [632.4869664443099,\n",
       "                 632.6904723679822,\n",
       "                 633.3608680201303,\n",
       "                 635.5834462698276],\n",
       "                'jacobian row': array([-1.,  0.,  0.]),\n",
       "                'affine jacobian row': array([0, 2, 0])})]),\n",
       " OrderedDict([(NQPauliOp[ Z],\n",
       "               {'rate': 9.791318297408492e-05,\n",
       "                'fit_order': 1,\n",
       "                'fitCoeffs': array([ 9.7913183e-05, -2.7321772e-03]),\n",
       "                'data': [-0.00298, -0.00312, -0.00086, -0.0025],\n",
       "                'errbars': [0.0031622636189919395,\n",
       "                 0.003162262268693095,\n",
       "                 0.003162276490757884,\n",
       "                 0.0031622677780352502],\n",
       "                'weights': [632.4583213540566,\n",
       "                 632.4585905200975,\n",
       "                 632.455760499222,\n",
       "                 632.4574926081411],\n",
       "                'jacobian row': array([ 0., -1.,  0.]),\n",
       "                'affine jacobian row': array([0, 0, 2])})]),\n",
       " OrderedDict([(NQPauliOp[ X],\n",
       "               {'rate': -0.0006415756042103916,\n",
       "                'fit_order': 1,\n",
       "                'fitCoeffs': array([-0.00064158,  0.00740096]),\n",
       "                'data': [0.00432, 0.00904, 0.00472, 0.0019],\n",
       "                'errbars': [0.0031622481521854035,\n",
       "                 0.003162148444333378,\n",
       "                 0.0031622424347288744,\n",
       "                 0.003162271952252051],\n",
       "                'weights': [632.4614061591517,\n",
       "                 632.4813180758434,\n",
       "                 632.462547098172,\n",
       "                 632.4566615887225],\n",
       "                'jacobian row': array([0., 0., 1.]),\n",
       "                'affine jacobian row': array([2, 0, 0])})])]"
      ]
     },
     "execution_count": 78,
     "metadata": {},
     "output_type": "execute_result"
    }
   ],
   "source": [
    "results.observed_rate_infos['diffbasis']"
   ]
  },
  {
   "cell_type": "code",
   "execution_count": 79,
   "metadata": {},
   "outputs": [
    {
     "data": {
      "text/plain": [
       "[OrderedDict([(NQOutcome[0],\n",
       "               {'rate': 0.0,\n",
       "                'fit_order': 1,\n",
       "                'fitCoeffs': array([0., 0.]),\n",
       "                'data': [0.0, 0.0, 0.0, 0.0],\n",
       "                'errbars': [0.0, 0.0, 0.0, 0.0],\n",
       "                'weights': [100001.49999375004,\n",
       "                 100001.49999375004,\n",
       "                 100001.49999375004,\n",
       "                 100001.49999375004],\n",
       "                'jacobian row': array([ 0,  1,  1, -1,  0,  0])})]),\n",
       " OrderedDict([(NQOutcome[0],\n",
       "               {'rate': 0.005082511835631539,\n",
       "                'fit_order': 1,\n",
       "                'fitCoeffs': array([5.08251184e-03, 8.29046294e-07]),\n",
       "                'data': [0.00524, 0.01001, 0.01977, 0.04124],\n",
       "                'errbars': [0.00022830992970083452,\n",
       "                 0.0003147983465649081,\n",
       "                 0.0004402175269114123,\n",
       "                 0.0006288025318015188],\n",
       "                'weights': [4375.903079386673,\n",
       "                 3175.0986822727577,\n",
       "                 2271.063784755441,\n",
       "                 1590.1551171268825],\n",
       "                'jacobian row': array([1, 0, 1, 0, 1, 0])})]),\n",
       " OrderedDict([(NQOutcome[1],\n",
       "               {'rate': 0.005155447486468786,\n",
       "                'fit_order': 1,\n",
       "                'fitCoeffs': array([ 5.15544749e-03, -9.32713259e-05]),\n",
       "                'data': [0.00499, 0.01061, 0.01993, 0.04146],\n",
       "                'errbars': [0.00022282504123190462,\n",
       "                 0.00032399734412491717,\n",
       "                 0.00044195921870688476,\n",
       "                 0.0006304051744711491],\n",
       "                'weights': [4483.403004689882,\n",
       "                 3085.0376916004916,\n",
       "                 2262.1184681847626,\n",
       "                 1586.113575877491],\n",
       "                'jacobian row': array([ 1,  1,  0,  0,  0, -1])})]),\n",
       " OrderedDict([(NQOutcome[0],\n",
       "               {'rate': 0.0,\n",
       "                'fit_order': 1,\n",
       "                'fitCoeffs': array([0., 0.]),\n",
       "                'data': [0.0, 0.0, 0.0, 0.0],\n",
       "                'errbars': [0.0, 0.0, 0.0, 0.0],\n",
       "                'weights': [100001.49999375004,\n",
       "                 100001.49999375004,\n",
       "                 100001.49999375004,\n",
       "                 100001.49999375004],\n",
       "                'jacobian row': array([0, 1, 1, 1, 0, 0])})]),\n",
       " OrderedDict([(NQOutcome[0],\n",
       "               {'rate': 0.0052282525185842685,\n",
       "                'fit_order': 1,\n",
       "                'fitCoeffs': array([ 0.00522825, -0.00060728]),\n",
       "                'data': [0.0047, 0.00952, 0.02077, 0.04103],\n",
       "                'errbars': [0.00021628476599150484,\n",
       "                 0.00030707278615989405,\n",
       "                 0.0004509834486985082,\n",
       "                 0.0006272681970258017],\n",
       "                'weights': [4618.692493894451,\n",
       "                 3254.896533993657,\n",
       "                 2216.8756930071104,\n",
       "                 1594.0437426405388],\n",
       "                'jacobian row': array([ 1,  0,  1,  0, -1,  0])})]),\n",
       " OrderedDict([(NQOutcome[1],\n",
       "               {'rate': 0.005191377982974411,\n",
       "                'fit_order': 1,\n",
       "                'fitCoeffs': array([ 0.00519138, -0.00010664]),\n",
       "                'data': [0.00515, 0.01042, 0.01982, 0.04209],\n",
       "                'errbars': [0.0002263509995559993,\n",
       "                 0.0003211140545040033,\n",
       "                 0.0004407626073069266,\n",
       "                 0.0006349679669085678],\n",
       "                'weights': [4413.700400353708,\n",
       "                 3112.711588781424,\n",
       "                 2268.256661269733,\n",
       "                 1574.7188184202382],\n",
       "                'jacobian row': array([1, 1, 0, 0, 0, 1])})])]"
      ]
     },
     "execution_count": 79,
     "metadata": {},
     "output_type": "execute_result"
    }
   ],
   "source": [
    "results.observed_rate_infos['samebasis']"
   ]
  },
  {
   "cell_type": "code",
   "execution_count": 37,
   "metadata": {},
   "outputs": [
    {
     "data": {
      "text/plain": [
       "[NQPauliOp[ X], NQPauliOp[ Y], NQPauliOp[ Z]]"
      ]
     },
     "execution_count": 37,
     "metadata": {},
     "output_type": "execute_result"
    }
   ],
   "source": [
    "results.error_list"
   ]
  },
  {
   "cell_type": "code",
   "execution_count": 39,
   "metadata": {},
   "outputs": [
    {
     "name": "stdout",
     "output_type": "stream",
     "text": [
      "Idle Tomography Results\n",
      "Intrinsic stochastic rates: \n",
      "   X: 5.84863e-20\n",
      "   Y: -3.35252e-20\n",
      "   Z: -2.49611e-20\n",
      "Intrinsic affine rates: \n",
      "   X: 5.79414e-21\n",
      "   Y: 5.21083e-21\n",
      "   Z: -1.09352e-19\n",
      "Intrinsic hamiltonian rates:\n",
      "   X: 0.000410094\n",
      "   Y: -0.000521394\n",
      "   Z: -0.000456001\n",
      "\n"
     ]
    }
   ],
   "source": [
    "print(results)"
   ]
  },
  {
   "cell_type": "code",
   "execution_count": 41,
   "metadata": {},
   "outputs": [
    {
     "name": "stdout",
     "output_type": "stream",
     "text": [
      "Gy:0[]Gy:0@(0)  :  {('0',): 0.0, ('1',): 100000.0}\n",
      "Gy:0[][]Gy:0@(0)  :  {('0',): 0.0, ('1',): 100000.0}\n",
      "Gy:0[][][][]Gy:0@(0)  :  {('0',): 0.0, ('1',): 100000.0}\n",
      "Gy:0[][][][][][][][]Gy:0@(0)  :  {('0',): 0.0, ('1',): 100000.0}\n",
      "Gx:0[]Gx:0@(0)  :  {('0',): 0.0, ('1',): 100000.0}\n",
      "Gx:0[][]Gx:0@(0)  :  {('0',): 0.0, ('1',): 100000.0}\n",
      "Gx:0[][][][]Gx:0@(0)  :  {('0',): 0.0, ('1',): 100000.0}\n",
      "Gx:0[][][][][][][][]Gx:0@(0)  :  {('0',): 0.0, ('1',): 100000.0}\n",
      "[]@(0)  :  {('0',): 100000.0, ('1',): 0.0}\n",
      "[][]@(0)  :  {('0',): 100000.0, ('1',): 0.0}\n",
      "[][][][]@(0)  :  {('0',): 100000.0, ('1',): 0.0}\n",
      "[][][][][][][][]@(0)  :  {('0',): 100000.0, ('1',): 0.0}\n",
      "Gy:0Gy:0Gy:0[]Gy:0Gy:0Gy:0@(0)  :  {('0',): 0.0, ('1',): 100000.0}\n",
      "Gy:0Gy:0Gy:0[][]Gy:0Gy:0Gy:0@(0)  :  {('0',): 0.0, ('1',): 100000.0}\n",
      "Gy:0Gy:0Gy:0[][][][]Gy:0Gy:0Gy:0@(0)  :  {('0',): 0.0, ('1',): 100000.0}\n",
      "Gy:0Gy:0Gy:0[][][][][][][][]Gy:0Gy:0Gy:0@(0)  :  {('0',): 0.0, ('1',): 100000.0}\n",
      "Gx:0Gx:0Gx:0[]Gx:0Gx:0Gx:0@(0)  :  {('0',): 0.0, ('1',): 100000.0}\n",
      "Gx:0Gx:0Gx:0[][]Gx:0Gx:0Gx:0@(0)  :  {('0',): 0.0, ('1',): 100000.0}\n",
      "Gx:0Gx:0Gx:0[][][][]Gx:0Gx:0Gx:0@(0)  :  {('0',): 0.0, ('1',): 100000.0}\n",
      "Gx:0Gx:0Gx:0[][][][][][][][]Gx:0Gx:0Gx:0@(0)  :  {('0',): 0.0, ('1',): 100000.0}\n",
      "Gx:0Gx:0[]Gx:0Gx:0@(0)  :  {('0',): 100000.0, ('1',): 0.0}\n",
      "Gx:0Gx:0[][]Gx:0Gx:0@(0)  :  {('0',): 100000.0, ('1',): 0.0}\n",
      "Gx:0Gx:0[][][][]Gx:0Gx:0@(0)  :  {('0',): 100000.0, ('1',): 0.0}\n",
      "Gx:0Gx:0[][][][][][][][]Gx:0Gx:0@(0)  :  {('0',): 100000.0, ('1',): 0.0}\n",
      "[]Gx:0@(0)  :  {('0',): 50208.0, ('1',): 49792.0}\n",
      "[][]Gx:0@(0)  :  {('0',): 50253.0, ('1',): 49747.0}\n",
      "[][][][]Gx:0@(0)  :  {('0',): 49695.0, ('1',): 50305.0}\n",
      "[][][][][][][][]Gx:0@(0)  :  {('0',): 50118.0, ('1',): 49882.0}\n",
      "Gy:0[]@(0)  :  {('0',): 50094.0, ('1',): 49906.0}\n",
      "Gy:0[][]@(0)  :  {('0',): 49907.0, ('1',): 50093.0}\n",
      "Gy:0[][][][]@(0)  :  {('0',): 49879.0, ('1',): 50121.0}\n",
      "Gy:0[][][][][][][][]@(0)  :  {('0',): 50206.0, ('1',): 49794.0}\n",
      "Gx:0[]Gy:0@(0)  :  {('0',): 49821.0, ('1',): 50179.0}\n",
      "Gx:0[][]Gy:0@(0)  :  {('0',): 49799.0, ('1',): 50201.0}\n",
      "Gx:0[][][][]Gy:0@(0)  :  {('0',): 49977.0, ('1',): 50023.0}\n",
      "Gx:0[][][][][][][][]Gy:0@(0)  :  {('0',): 49957.0, ('1',): 50043.0}\n",
      "\n",
      "\n"
     ]
    }
   ],
   "source": [
    "print(ds)"
   ]
  },
  {
   "cell_type": "code",
   "execution_count": null,
   "metadata": {},
   "outputs": [],
   "source": []
  }
 ],
 "metadata": {
  "kernelspec": {
   "display_name": "qcvv",
   "language": "python",
   "name": "python3"
  },
  "language_info": {
   "codemirror_mode": {
    "name": "ipython",
    "version": 3
   },
   "file_extension": ".py",
   "mimetype": "text/x-python",
   "name": "python",
   "nbconvert_exporter": "python",
   "pygments_lexer": "ipython3",
   "version": "3.10.9"
  },
  "orig_nbformat": 4
 },
 "nbformat": 4,
 "nbformat_minor": 2
}

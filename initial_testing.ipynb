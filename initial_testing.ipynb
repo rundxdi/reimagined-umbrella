{
 "cells": [
  {
   "cell_type": "code",
   "execution_count": 1,
   "metadata": {},
   "outputs": [
    {
     "name": "stderr",
     "output_type": "stream",
     "text": [
      "c:\\Users\\jkskolf\\AppData\\Local\\miniconda3\\envs\\qcvv\\lib\\site-packages\\pygsti\\baseobjs\\opcalc\\__init__.py:31: UserWarning: \n",
      "An optimized Cython-based implementation of `pygsti.baseobjs.opcalc` is available as\n",
      "an extension, but couldn't be imported. This might happen if the\n",
      "extension has not been built. `pip install cython`, then reinstall\n",
      "pyGSTi to build Cython extensions. Alternatively, setting the\n",
      "environment variable `PYGSTI_NO_CYTHON_WARNING` will suppress this\n",
      "message.\n",
      "\n",
      "  _warnings.warn(warn_msg)\n",
      "c:\\Users\\jkskolf\\AppData\\Local\\miniconda3\\envs\\qcvv\\lib\\site-packages\\pygsti\\circuits\\circuitparser\\__init__.py:60: UserWarning: \n",
      "An optimized Cython-based implementation of `pygsti.circuits.circuitparser` is available as\n",
      "an extension, but couldn't be imported. This might happen if the\n",
      "extension has not been built. `pip install cython`, then reinstall\n",
      "pyGSTi to build Cython extensions. Alternatively, setting the\n",
      "environment variable `PYGSTI_NO_CYTHON_WARNING` will suppress this\n",
      "message.\n",
      "\n",
      "  _warnings.warn(warn_msg)\n"
     ]
    }
   ],
   "source": [
    "import numpy as np\n",
    "from pygsti.baseobjs import Basis\n",
    "\n",
    "np.set_printoptions(precision=1, linewidth=1000)"
   ]
  },
  {
   "cell_type": "code",
   "execution_count": 2,
   "metadata": {},
   "outputs": [],
   "source": [
    "# 1-qubit base case\n",
    "pp = Basis.cast('PP', dim=4)\n",
    "pauliNames = [\"I\", \"X\", \"Y\", \"Z\"]\n",
    "initialStates = [\"X+\", \"X-\", \"Y+\",\"Y-\", \"Z+\", \"Z-\"]\n"
   ]
  },
  {
   "cell_type": "code",
   "execution_count": 3,
   "metadata": {},
   "outputs": [],
   "source": [
    "# Commutator Helper Functions\n",
    "def commute(mat1, mat2):\n",
    "    return mat1@mat2 + mat2@mat1\n",
    "\n",
    "def anti_commute(mat1, mat2):\n",
    "    return mat1@mat2 - mat2@mat1"
   ]
  },
  {
   "cell_type": "code",
   "execution_count": 4,
   "metadata": {},
   "outputs": [],
   "source": [
    "# Hamiltonian Error Generator\n",
    "def hamiltonian_error_generator(initial_state, pauli_index, pauliDict):\n",
    "    return -1j*pauliDict[pauli_index]@initial_state@pauliDict[\"I\"] + 1j*pauliDict[\"I\"]@initial_state@pauliDict[pauli_index]\n",
    "\n",
    "# Stochastic Error Generator\n",
    "def stochastic_error_generator(initial_state, pauli_index, pauliDict):\n",
    "    return pauliDict[pauli_index]@initial_state@pauliDict[pauli_index] - pauliDict[\"I\"]@initial_state@pauliDict[\"I\"]\n",
    "\n",
    "# Pauli-correlation Error Generator\n",
    "def pauli_correlation_error_generator(initial_state, pauli_index_1, pauli_index_2, pauliDict):\n",
    "    return pauliDict[pauli_index_1]@initial_state@pauliDict[pauli_index_2] + pauliDict[pauli_index_2]@initial_state@pauliDict[pauli_index_1] - 0.5 * commute(commute(pauliDict[pauli_index_1], pauliDict[pauli_index_2]), initial_state)\n",
    "\n",
    "# Anti-symmetric Error Generator\n",
    "def anti_symmetric_error_generator(initial_state, pauli_index_1, pauli_index_2, pauliDict):\n",
    "    return 1j*(pauliDict[pauli_index_1]@initial_state@pauliDict[pauli_index_2] - pauliDict[pauli_index_2]@initial_state@pauliDict[pauli_index_1] + 0.5 * commute(anti_commute(pauliDict[pauli_index_1], pauliDict[pauli_index_2]), initial_state))"
   ]
  },
  {
   "cell_type": "code",
   "execution_count": 5,
   "metadata": {},
   "outputs": [],
   "source": [
    "# Convert basis; 1-q only at the moment\n",
    "def convert_to_pauli(matrix):\n",
    "    pauliNames = [\"I\", \"X\", \"Y\", \"Z\"]\n",
    "    translationMatrix = pp.from_std_transform_matrix\n",
    "    coefs = np.real_if_close(np.dot(translationMatrix,matrix.flatten()))\n",
    "    return [(a,b) for (a,b) in zip(coefs,pauliNames) if abs(a) > 0.0001]"
   ]
  },
  {
   "cell_type": "code",
   "execution_count": 6,
   "metadata": {},
   "outputs": [
    {
     "name": "stdout",
     "output_type": "stream",
     "text": [
      "('X', 'X+') \n",
      " []\n",
      "('X', 'X-') \n",
      " []\n",
      "('X', 'Y+') \n",
      " [(1.0, 'Z')]\n",
      "('X', 'Y-') \n",
      " [(-1.0, 'Z')]\n",
      "('X', 'Z+') \n",
      " [(-1.0, 'Y')]\n",
      "('X', 'Z-') \n",
      " [(1.0, 'Y')]\n",
      "('Y', 'X+') \n",
      " [(-1.0, 'Z')]\n",
      "('Y', 'X-') \n",
      " [(1.0, 'Z')]\n",
      "('Y', 'Y+') \n",
      " []\n",
      "('Y', 'Y-') \n",
      " []\n",
      "('Y', 'Z+') \n",
      " [(1.0, 'X')]\n",
      "('Y', 'Z-') \n",
      " [(-1.0, 'X')]\n",
      "('Z', 'X+') \n",
      " [(1.0, 'Y')]\n",
      "('Z', 'X-') \n",
      " [(-1.0, 'Y')]\n",
      "('Z', 'Y+') \n",
      " [(-1.0, 'X')]\n",
      "('Z', 'Y-') \n",
      " [(1.0, 'X')]\n",
      "('Z', 'Z+') \n",
      " []\n",
      "('Z', 'Z-') \n",
      " []\n"
     ]
    }
   ],
   "source": [
    "# Compute the set of measurable effects of Hamiltonian error generators operating on a single qubit in each of the specified eigenstates\n",
    "hamiltonianIndices = [\"X\", \"Y\", \"Z\"]\n",
    "hamiltonianErrorOutputs = dict()\n",
    "for index in hamiltonianIndices:\n",
    "    for state in initialStates:\n",
    "        if state[-1] == \"+\":\n",
    "            hamiltonianErrorOutputs[(index, state)] = 0.5*hamiltonian_error_generator(pp[\"I\"], index, pp) + 0.5*hamiltonian_error_generator(pp[state[0]], index, pp)\n",
    "        elif state[-1] == \"-\":\n",
    "            hamiltonianErrorOutputs[(index, state)] = 0.5*hamiltonian_error_generator(pp[\"I\"], index, pp) - 0.5*hamiltonian_error_generator(pp[state[0]], index, pp)\n",
    "\n",
    "# Convert measurable effects into coefficients\n",
    "for key in hamiltonianErrorOutputs:\n",
    "    hamiltonianErrorOutputs[key] = convert_to_pauli(hamiltonianErrorOutputs[key])\n",
    "\n",
    "for key in hamiltonianErrorOutputs:\n",
    "    print(key, \"\\n\", hamiltonianErrorOutputs[key])"
   ]
  },
  {
   "cell_type": "code",
   "execution_count": 7,
   "metadata": {},
   "outputs": [
    {
     "name": "stdout",
     "output_type": "stream",
     "text": [
      "('X', 'X+') \n",
      " []\n",
      "('X', 'X-') \n",
      " []\n",
      "('X', 'Y+') \n",
      " [(-1.0, 'Y')]\n",
      "('X', 'Y-') \n",
      " [(1.0, 'Y')]\n",
      "('X', 'Z+') \n",
      " [(-1.0, 'Z')]\n",
      "('X', 'Z-') \n",
      " [(1.0, 'Z')]\n",
      "('Y', 'X+') \n",
      " [(-1.0, 'X')]\n",
      "('Y', 'X-') \n",
      " [(1.0, 'X')]\n",
      "('Y', 'Y+') \n",
      " []\n",
      "('Y', 'Y-') \n",
      " []\n",
      "('Y', 'Z+') \n",
      " [(-1.0, 'Z')]\n",
      "('Y', 'Z-') \n",
      " [(1.0, 'Z')]\n",
      "('Z', 'X+') \n",
      " [(-1.0, 'X')]\n",
      "('Z', 'X-') \n",
      " [(1.0, 'X')]\n",
      "('Z', 'Y+') \n",
      " [(-1.0, 'Y')]\n",
      "('Z', 'Y-') \n",
      " [(1.0, 'Y')]\n",
      "('Z', 'Z+') \n",
      " []\n",
      "('Z', 'Z-') \n",
      " []\n"
     ]
    }
   ],
   "source": [
    "# Compute the set of measurable effects of stochastic error generators operating on a single qubit in each of the specified eigenstates\n",
    "stochasticIndices = [\"X\", \"Y\", \"Z\"]\n",
    "stochasticErrorOutputs = dict()\n",
    "for index in stochasticIndices:\n",
    "    for state in initialStates:\n",
    "        if state[-1] == \"+\":\n",
    "            stochasticErrorOutputs[(index, state)] = 0.5*stochastic_error_generator(pp[\"I\"], index, pp) + 0.5*stochastic_error_generator(pp[state[0]], index, pp)\n",
    "        elif state[-1] == \"-\":\n",
    "            stochasticErrorOutputs[(index, state)] = 0.5*stochastic_error_generator(pp[\"I\"], index, pp) - 0.5*stochastic_error_generator(pp[state[0]], index, pp)\n",
    "\n",
    "# Convert measurable effects into coefficients\n",
    "for key in stochasticErrorOutputs:\n",
    "    stochasticErrorOutputs[key] = convert_to_pauli(stochasticErrorOutputs[key])\n",
    "for key in stochasticErrorOutputs:\n",
    "    print(key, \"\\n\", stochasticErrorOutputs[key])\n"
   ]
  },
  {
   "cell_type": "code",
   "execution_count": 8,
   "metadata": {},
   "outputs": [
    {
     "name": "stdout",
     "output_type": "stream",
     "text": [
      "('XY', 'X+') \n",
      " [(1.0, 'Y')]\n",
      "('XY', 'X-') \n",
      " [(-1.0, 'Y')]\n",
      "('XY', 'Y+') \n",
      " [(1.0, 'X')]\n",
      "('XY', 'Y-') \n",
      " [(-1.0, 'X')]\n",
      "('XY', 'Z+') \n",
      " []\n",
      "('XY', 'Z-') \n",
      " []\n",
      "('XZ', 'X+') \n",
      " [(1.0, 'Z')]\n",
      "('XZ', 'X-') \n",
      " [(-1.0, 'Z')]\n",
      "('XZ', 'Y+') \n",
      " []\n",
      "('XZ', 'Y-') \n",
      " []\n",
      "('XZ', 'Z+') \n",
      " [(1.0, 'X')]\n",
      "('XZ', 'Z-') \n",
      " [(-1.0, 'X')]\n",
      "('YZ', 'X+') \n",
      " []\n",
      "('YZ', 'X-') \n",
      " []\n",
      "('YZ', 'Y+') \n",
      " [(1.0, 'Z')]\n",
      "('YZ', 'Y-') \n",
      " [(-1.0, 'Z')]\n",
      "('YZ', 'Z+') \n",
      " [(1.0, 'Y')]\n",
      "('YZ', 'Z-') \n",
      " [(-1.0, 'Y')]\n"
     ]
    }
   ],
   "source": [
    "# Compute the set of measurable effects of pauli-correlation error generators operating on a single qubit in each of the specified eigenstates\n",
    "pauliCorrelationIndices = [\"XY\", \"XZ\", \"YZ\"]\n",
    "pauliCorrelationErrorOutputs = dict()\n",
    "for index in pauliCorrelationIndices:\n",
    "    for state in initialStates:\n",
    "        if state[-1] == \"+\":\n",
    "            pauliCorrelationErrorOutputs[(index, state)] = 0.5*pauli_correlation_error_generator(pp[\"I\"], index[0], index[1], pp) + 0.5*pauli_correlation_error_generator(pp[state[0]], index[0], index[1], pp)\n",
    "        elif state[-1] == \"-\":\n",
    "            pauliCorrelationErrorOutputs[(index, state)] = 0.5*pauli_correlation_error_generator(pp[\"I\"], index[0], index[1], pp) - 0.5*pauli_correlation_error_generator(pp[state[0]], index[0], index[1], pp)\n",
    "\n",
    "# Convert measurable effects into coefficients\n",
    "for key in pauliCorrelationErrorOutputs:\n",
    "    pauliCorrelationErrorOutputs[key] = convert_to_pauli(pauliCorrelationErrorOutputs[key])\n",
    "for key in pauliCorrelationErrorOutputs:\n",
    "    print(key, \"\\n\", pauliCorrelationErrorOutputs[key])\n"
   ]
  },
  {
   "cell_type": "code",
   "execution_count": 9,
   "metadata": {},
   "outputs": [
    {
     "name": "stdout",
     "output_type": "stream",
     "text": [
      "('XY', 'X+') \n",
      " [(-2.0, 'Z')]\n",
      "('XY', 'X-') \n",
      " [(-2.0, 'Z')]\n",
      "('XY', 'Y+') \n",
      " [(-2.0, 'Z')]\n",
      "('XY', 'Y-') \n",
      " [(-2.0, 'Z')]\n",
      "('XY', 'Z+') \n",
      " [(-2.0, 'Z')]\n",
      "('XY', 'Z-') \n",
      " [(-2.0, 'Z')]\n",
      "('XZ', 'X+') \n",
      " [(2.0, 'Y')]\n",
      "('XZ', 'X-') \n",
      " [(2.0, 'Y')]\n",
      "('XZ', 'Y+') \n",
      " [(2.0, 'Y')]\n",
      "('XZ', 'Y-') \n",
      " [(2.0, 'Y')]\n",
      "('XZ', 'Z+') \n",
      " [(2.0, 'Y')]\n",
      "('XZ', 'Z-') \n",
      " [(2.0, 'Y')]\n",
      "('YZ', 'X+') \n",
      " [(-2.0, 'X')]\n",
      "('YZ', 'X-') \n",
      " [(-2.0, 'X')]\n",
      "('YZ', 'Y+') \n",
      " [(-2.0, 'X')]\n",
      "('YZ', 'Y-') \n",
      " [(-2.0, 'X')]\n",
      "('YZ', 'Z+') \n",
      " [(-2.0, 'X')]\n",
      "('YZ', 'Z-') \n",
      " [(-2.0, 'X')]\n"
     ]
    }
   ],
   "source": [
    "# Compute the set of measurable effects of pauli-correlation error generators operating on a single qubit in each of the specified eigenstates\n",
    "antiSymmetricIndices = [\"XY\", \"XZ\", \"YZ\"]\n",
    "antiSymmetricErrorOutputs = dict()\n",
    "for index in antiSymmetricIndices:\n",
    "    for state in initialStates:\n",
    "        if state[-1] == \"+\":\n",
    "            antiSymmetricErrorOutputs[(index, state)] = 0.5*anti_symmetric_error_generator(pp[\"I\"], index[0], index[1], pp) + 0.5*anti_symmetric_error_generator(pp[state[0]], index[0], index[1], pp)\n",
    "        elif state[-1] == \"-\":\n",
    "            antiSymmetricErrorOutputs[(index, state)] = 0.5*anti_symmetric_error_generator(pp[\"I\"], index[0], index[1], pp) - 0.5*anti_symmetric_error_generator(pp[state[0]], index[0], index[1], pp)\n",
    "\n",
    "# Convert measurable effects into coefficients\n",
    "for key in antiSymmetricErrorOutputs:\n",
    "    antiSymmetricErrorOutputs[key] = convert_to_pauli(antiSymmetricErrorOutputs[key])\n",
    "for key in antiSymmetricErrorOutputs:\n",
    "    print(key, \"\\n\", antiSymmetricErrorOutputs[key])\n"
   ]
  },
  {
   "cell_type": "code",
   "execution_count": null,
   "metadata": {},
   "outputs": [],
   "source": []
  }
 ],
 "metadata": {
  "kernelspec": {
   "display_name": "qcvv",
   "language": "python",
   "name": "python3"
  },
  "language_info": {
   "codemirror_mode": {
    "name": "ipython",
    "version": 3
   },
   "file_extension": ".py",
   "mimetype": "text/x-python",
   "name": "python",
   "nbconvert_exporter": "python",
   "pygments_lexer": "ipython3",
   "version": "3.10.9"
  },
  "orig_nbformat": 4
 },
 "nbformat": 4,
 "nbformat_minor": 2
}
